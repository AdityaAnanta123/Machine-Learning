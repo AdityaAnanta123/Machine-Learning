{
  "nbformat": 4,
  "nbformat_minor": 0,
  "metadata": {
    "colab": {
      "provenance": [],
      "gpuType": "T4"
    },
    "kernelspec": {
      "name": "python3",
      "display_name": "Python 3"
    },
    "language_info": {
      "name": "python"
    },
    "accelerator": "GPU"
  },
  "cells": [
    {
      "cell_type": "code",
      "execution_count": 70,
      "metadata": {
        "colab": {
          "base_uri": "https://localhost:8080/"
        },
        "id": "sZ2TmsRt8Wyd",
        "outputId": "b9d42b99-8d8e-4104-b1c8-a488dc5a397b"
      },
      "outputs": [
        {
          "output_type": "stream",
          "name": "stdout",
          "text": [
            "           userId   productId  ratings   timestamp\n",
            "0   AKM1MP6P0OYPR  0132793040      5.0  1365811200\n",
            "1  A2CX7LUOHB2NDG  0321732944      5.0  1341100800\n",
            "2  A2NWSAGRHCP8N5  0439886341      1.0  1367193600\n",
            "3  A2WNBOD3WNDNKT  0439886341      3.0  1374451200\n",
            "4  A1GI0U4ZRJA8WN  0439886341      1.0  1334707200\n"
          ]
        }
      ],
      "source": [
        "import pandas as pd\n",
        "import numpy as np\n",
        "\n",
        "columns=['userId', 'productId', 'ratings','timestamp']\n",
        "app_data = pd.read_csv('/content/drive/MyDrive/Bangkit/ratings_Electronics (1).csv/ratings_Electronics (1).csv',names=columns)\n",
        "\n",
        "# Tampilkan beberapa baris pertama dari dataset\n",
        "print(app_data.head())\n"
      ]
    },
    {
      "cell_type": "code",
      "source": [
        "app_data.info()"
      ],
      "metadata": {
        "colab": {
          "base_uri": "https://localhost:8080/"
        },
        "id": "1uBvccDBAxR2",
        "outputId": "4331354c-3969-4d8a-f20f-76752336e67d"
      },
      "execution_count": 71,
      "outputs": [
        {
          "output_type": "stream",
          "name": "stdout",
          "text": [
            "<class 'pandas.core.frame.DataFrame'>\n",
            "RangeIndex: 7824482 entries, 0 to 7824481\n",
            "Data columns (total 4 columns):\n",
            " #   Column     Dtype  \n",
            "---  ------     -----  \n",
            " 0   userId     object \n",
            " 1   productId  object \n",
            " 2   ratings    float64\n",
            " 3   timestamp  int64  \n",
            "dtypes: float64(1), int64(1), object(2)\n",
            "memory usage: 238.8+ MB\n"
          ]
        }
      ]
    },
    {
      "cell_type": "code",
      "source": [
        "app_data.isnull().sum()"
      ],
      "metadata": {
        "colab": {
          "base_uri": "https://localhost:8080/"
        },
        "id": "pjUKToBBDn-U",
        "outputId": "33a55ad0-45af-4fd0-bf52-b2a9141dbc30"
      },
      "execution_count": 72,
      "outputs": [
        {
          "output_type": "execute_result",
          "data": {
            "text/plain": [
              "userId       0\n",
              "productId    0\n",
              "ratings      0\n",
              "timestamp    0\n",
              "dtype: int64"
            ]
          },
          "metadata": {},
          "execution_count": 72
        }
      ]
    },
    {
      "cell_type": "code",
      "source": [
        "#Taking subset of the dataset\n",
        "app_data=app_data.iloc[:5000,0:]"
      ],
      "metadata": {
        "id": "3pabSJ5ZYfko"
      },
      "execution_count": 73,
      "outputs": []
    },
    {
      "cell_type": "code",
      "source": [
        "app_data.info()"
      ],
      "metadata": {
        "colab": {
          "base_uri": "https://localhost:8080/"
        },
        "id": "UfckZkIoYlJl",
        "outputId": "17c6572b-799f-44f1-cd32-350ca82aec3a"
      },
      "execution_count": 74,
      "outputs": [
        {
          "output_type": "stream",
          "name": "stdout",
          "text": [
            "<class 'pandas.core.frame.DataFrame'>\n",
            "RangeIndex: 5000 entries, 0 to 4999\n",
            "Data columns (total 4 columns):\n",
            " #   Column     Non-Null Count  Dtype  \n",
            "---  ------     --------------  -----  \n",
            " 0   userId     5000 non-null   object \n",
            " 1   productId  5000 non-null   object \n",
            " 2   ratings    5000 non-null   float64\n",
            " 3   timestamp  5000 non-null   int64  \n",
            "dtypes: float64(1), int64(1), object(2)\n",
            "memory usage: 156.4+ KB\n"
          ]
        }
      ]
    },
    {
      "cell_type": "code",
      "source": [
        "from sklearn.model_selection import train_test_split\n",
        "import tensorflow as tf\n",
        "from sklearn.preprocessing import LabelEncoder\n",
        "from tensorflow.keras.models import Model\n",
        "from tensorflow.keras.layers import Input, Embedding, Flatten, Concatenate, Dense\n",
        "from tensorflow.keras.optimizers import Adam"
      ],
      "metadata": {
        "id": "PHP4Yjn2B2La"
      },
      "execution_count": 75,
      "outputs": []
    },
    {
      "cell_type": "code",
      "source": [
        "# Konversi user_id dan product_id menjadi label yang sesuai\n",
        "user_encoder = LabelEncoder()\n",
        "product_encoder = LabelEncoder()\n",
        "app_data['userId'] = user_encoder.fit_transform(app_data['userId'])\n",
        "app_data['productId'] = product_encoder.fit_transform(app_data['productId'])"
      ],
      "metadata": {
        "id": "MJAaWkGbHoLI"
      },
      "execution_count": 76,
      "outputs": []
    },
    {
      "cell_type": "code",
      "source": [
        "# Pisahkan data menjadi train set dan test set\n",
        "train_data, test_data = train_test_split(app_data, test_size=0.2, random_state=42)\n",
        "\n",
        "# Tampilkan data train\n",
        "print(\"Data Train:\")\n",
        "print(train_data)\n",
        "\n",
        "# Tampilkan data test\n",
        "print(\"\\nData Test:\")\n",
        "print(test_data)"
      ],
      "metadata": {
        "colab": {
          "base_uri": "https://localhost:8080/"
        },
        "id": "sYbic3aEBxCj",
        "outputId": "500f8c95-9a4f-42ed-b9f9-c5e6e53f6a4a"
      },
      "execution_count": 77,
      "outputs": [
        {
          "output_type": "stream",
          "name": "stdout",
          "text": [
            "Data Train:\n",
            "      userId  productId  ratings   timestamp\n",
            "4227    1783        216      5.0  1382659200\n",
            "4676    1207        290      5.0  1381449600\n",
            "800     1048         38      4.0  1340582400\n",
            "3671    2300        122      5.0  1366848000\n",
            "4193    3044        209      5.0  1358121600\n",
            "...      ...        ...      ...         ...\n",
            "4426     871        262      4.0  1279670400\n",
            "466     2088         38      2.0  1355702400\n",
            "3092    2901         63      5.0  1300665600\n",
            "3772    1272        133      5.0  1284854400\n",
            "860      290         38      5.0  1387670400\n",
            "\n",
            "[4000 rows x 4 columns]\n",
            "\n",
            "Data Test:\n",
            "      userId  productId  ratings   timestamp\n",
            "1501    4225         53      4.0  1348185600\n",
            "2586     496         61      3.0  1395446400\n",
            "2653    3614         61      5.0  1327968000\n",
            "1055     103         38      4.0  1371340800\n",
            "705      273         38      4.0  1383868800\n",
            "...      ...        ...      ...         ...\n",
            "4711     454        291      1.0  1298851200\n",
            "2313     441         60      3.0  1383264000\n",
            "3214    2386         63      3.0  1299801600\n",
            "2732    2346         61      5.0  1368835200\n",
            "1926     692         59      1.0  1303257600\n",
            "\n",
            "[1000 rows x 4 columns]\n"
          ]
        }
      ]
    },
    {
      "cell_type": "code",
      "source": [
        "def create_model(num_users, num_products, embedding_size=50):\n",
        "    user_input = Input(shape=(1,), name='user_input')\n",
        "    product_input = Input(shape=(1,), name='product_input')\n",
        "\n",
        "    user_embedding = Embedding(input_dim=num_users, output_dim=embedding_size, input_length=1)(user_input)\n",
        "    product_embedding = Embedding(input_dim=num_products, output_dim=embedding_size, input_length=1)(product_input)\n",
        "\n",
        "    concat = Flatten()(Concatenate()([user_embedding, product_embedding]))\n",
        "    dense_1 = Dense(128, activation='relu')(concat)\n",
        "    output = Dense(1)(dense_1)\n",
        "\n",
        "    model = Model(inputs=[user_input, product_input], outputs=output)\n",
        "\n",
        "    return model\n"
      ],
      "metadata": {
        "id": "f3KHbeGCHyRX"
      },
      "execution_count": 78,
      "outputs": []
    },
    {
      "cell_type": "code",
      "source": [
        "num_users = len(app_data['userId'].unique())\n",
        "num_products = len(app_data['productId'].unique())\n",
        "\n",
        "model = create_model(num_users, num_products)\n",
        "model.compile(optimizer=Adam(learning_rate=0.001), loss='mean_squared_error', metrics=['mse'])"
      ],
      "metadata": {
        "id": "YYTOZtvvIDPI"
      },
      "execution_count": 79,
      "outputs": []
    },
    {
      "cell_type": "code",
      "source": [
        "history = model.fit(\n",
        "    [train_data['userId'], train_data['productId']],\n",
        "    train_data['ratings'],\n",
        "    epochs=100,\n",
        "    batch_size=64,\n",
        "    validation_split=0.2\n",
        ")"
      ],
      "metadata": {
        "colab": {
          "base_uri": "https://localhost:8080/"
        },
        "id": "PHkj_6bHItNk",
        "outputId": "bd6540c6-0e76-4c03-9868-6a02408c739f"
      },
      "execution_count": 80,
      "outputs": [
        {
          "output_type": "stream",
          "name": "stdout",
          "text": [
            "Epoch 1/100\n",
            "50/50 [==============================] - 4s 54ms/step - loss: 13.3978 - mse: 13.3978 - val_loss: 6.1254 - val_mse: 6.1254\n",
            "Epoch 2/100\n",
            "50/50 [==============================] - 0s 8ms/step - loss: 3.1044 - mse: 3.1044 - val_loss: 2.3721 - val_mse: 2.3721\n",
            "Epoch 3/100\n",
            "50/50 [==============================] - 1s 11ms/step - loss: 1.6034 - mse: 1.6034 - val_loss: 2.2142 - val_mse: 2.2142\n",
            "Epoch 4/100\n",
            "50/50 [==============================] - 0s 5ms/step - loss: 0.4857 - mse: 0.4857 - val_loss: 2.3839 - val_mse: 2.3839\n",
            "Epoch 5/100\n",
            "50/50 [==============================] - 0s 4ms/step - loss: 0.1054 - mse: 0.1054 - val_loss: 2.4608 - val_mse: 2.4608\n",
            "Epoch 6/100\n",
            "50/50 [==============================] - 0s 5ms/step - loss: 0.0683 - mse: 0.0683 - val_loss: 2.4968 - val_mse: 2.4968\n",
            "Epoch 7/100\n",
            "50/50 [==============================] - 0s 8ms/step - loss: 0.0632 - mse: 0.0632 - val_loss: 2.4809 - val_mse: 2.4809\n",
            "Epoch 8/100\n",
            "50/50 [==============================] - 0s 5ms/step - loss: 0.0576 - mse: 0.0576 - val_loss: 2.4982 - val_mse: 2.4982\n",
            "Epoch 9/100\n",
            "50/50 [==============================] - 0s 5ms/step - loss: 0.0417 - mse: 0.0417 - val_loss: 2.4662 - val_mse: 2.4662\n",
            "Epoch 10/100\n",
            "50/50 [==============================] - 0s 4ms/step - loss: 0.0328 - mse: 0.0328 - val_loss: 2.4912 - val_mse: 2.4912\n",
            "Epoch 11/100\n",
            "50/50 [==============================] - 0s 5ms/step - loss: 0.0281 - mse: 0.0281 - val_loss: 2.4695 - val_mse: 2.4695\n",
            "Epoch 12/100\n",
            "50/50 [==============================] - 0s 5ms/step - loss: 0.0261 - mse: 0.0261 - val_loss: 2.4882 - val_mse: 2.4882\n",
            "Epoch 13/100\n",
            "50/50 [==============================] - 0s 5ms/step - loss: 0.0249 - mse: 0.0249 - val_loss: 2.4598 - val_mse: 2.4598\n",
            "Epoch 14/100\n",
            "50/50 [==============================] - 0s 5ms/step - loss: 0.0257 - mse: 0.0257 - val_loss: 2.4806 - val_mse: 2.4806\n",
            "Epoch 15/100\n",
            "50/50 [==============================] - 0s 5ms/step - loss: 0.0256 - mse: 0.0256 - val_loss: 2.4487 - val_mse: 2.4487\n",
            "Epoch 16/100\n",
            "50/50 [==============================] - 0s 4ms/step - loss: 0.0260 - mse: 0.0260 - val_loss: 2.4742 - val_mse: 2.4742\n",
            "Epoch 17/100\n",
            "50/50 [==============================] - 0s 6ms/step - loss: 0.0260 - mse: 0.0260 - val_loss: 2.4496 - val_mse: 2.4496\n",
            "Epoch 18/100\n",
            "50/50 [==============================] - 0s 6ms/step - loss: 0.0260 - mse: 0.0260 - val_loss: 2.4693 - val_mse: 2.4693\n",
            "Epoch 19/100\n",
            "50/50 [==============================] - 0s 7ms/step - loss: 0.0260 - mse: 0.0260 - val_loss: 2.4504 - val_mse: 2.4504\n",
            "Epoch 20/100\n",
            "50/50 [==============================] - 0s 6ms/step - loss: 0.0273 - mse: 0.0273 - val_loss: 2.4594 - val_mse: 2.4594\n",
            "Epoch 21/100\n",
            "50/50 [==============================] - 0s 7ms/step - loss: 0.0275 - mse: 0.0275 - val_loss: 2.4241 - val_mse: 2.4241\n",
            "Epoch 22/100\n",
            "50/50 [==============================] - 0s 7ms/step - loss: 0.0256 - mse: 0.0256 - val_loss: 2.4439 - val_mse: 2.4439\n",
            "Epoch 23/100\n",
            "50/50 [==============================] - 0s 7ms/step - loss: 0.0269 - mse: 0.0269 - val_loss: 2.4373 - val_mse: 2.4373\n",
            "Epoch 24/100\n",
            "50/50 [==============================] - 1s 8ms/step - loss: 0.0264 - mse: 0.0264 - val_loss: 2.4089 - val_mse: 2.4089\n",
            "Epoch 25/100\n",
            "50/50 [==============================] - 0s 7ms/step - loss: 0.0266 - mse: 0.0266 - val_loss: 2.4302 - val_mse: 2.4302\n",
            "Epoch 26/100\n",
            "50/50 [==============================] - 0s 7ms/step - loss: 0.0252 - mse: 0.0252 - val_loss: 2.4086 - val_mse: 2.4086\n",
            "Epoch 27/100\n",
            "50/50 [==============================] - 0s 7ms/step - loss: 0.0238 - mse: 0.0238 - val_loss: 2.4187 - val_mse: 2.4187\n",
            "Epoch 28/100\n",
            "50/50 [==============================] - 0s 7ms/step - loss: 0.0233 - mse: 0.0233 - val_loss: 2.4124 - val_mse: 2.4124\n",
            "Epoch 29/100\n",
            "50/50 [==============================] - 0s 7ms/step - loss: 0.0226 - mse: 0.0226 - val_loss: 2.3929 - val_mse: 2.3929\n",
            "Epoch 30/100\n",
            "50/50 [==============================] - 0s 4ms/step - loss: 0.0217 - mse: 0.0217 - val_loss: 2.4015 - val_mse: 2.4015\n",
            "Epoch 31/100\n",
            "50/50 [==============================] - 0s 5ms/step - loss: 0.0220 - mse: 0.0220 - val_loss: 2.3971 - val_mse: 2.3971\n",
            "Epoch 32/100\n",
            "50/50 [==============================] - 0s 4ms/step - loss: 0.0206 - mse: 0.0206 - val_loss: 2.3903 - val_mse: 2.3903\n",
            "Epoch 33/100\n",
            "50/50 [==============================] - 0s 4ms/step - loss: 0.0200 - mse: 0.0200 - val_loss: 2.3897 - val_mse: 2.3897\n",
            "Epoch 34/100\n",
            "50/50 [==============================] - 0s 5ms/step - loss: 0.0196 - mse: 0.0196 - val_loss: 2.3852 - val_mse: 2.3852\n",
            "Epoch 35/100\n",
            "50/50 [==============================] - 0s 5ms/step - loss: 0.0186 - mse: 0.0186 - val_loss: 2.3649 - val_mse: 2.3649\n",
            "Epoch 36/100\n",
            "50/50 [==============================] - 0s 4ms/step - loss: 0.0182 - mse: 0.0182 - val_loss: 2.3779 - val_mse: 2.3779\n",
            "Epoch 37/100\n",
            "50/50 [==============================] - 0s 5ms/step - loss: 0.0174 - mse: 0.0174 - val_loss: 2.3598 - val_mse: 2.3598\n",
            "Epoch 38/100\n",
            "50/50 [==============================] - 0s 5ms/step - loss: 0.0170 - mse: 0.0170 - val_loss: 2.3718 - val_mse: 2.3718\n",
            "Epoch 39/100\n",
            "50/50 [==============================] - 0s 8ms/step - loss: 0.0172 - mse: 0.0172 - val_loss: 2.3648 - val_mse: 2.3648\n",
            "Epoch 40/100\n",
            "50/50 [==============================] - 0s 7ms/step - loss: 0.0178 - mse: 0.0178 - val_loss: 2.3771 - val_mse: 2.3771\n",
            "Epoch 41/100\n",
            "50/50 [==============================] - 0s 4ms/step - loss: 0.0187 - mse: 0.0187 - val_loss: 2.3586 - val_mse: 2.3586\n",
            "Epoch 42/100\n",
            "50/50 [==============================] - 0s 5ms/step - loss: 0.0196 - mse: 0.0196 - val_loss: 2.3775 - val_mse: 2.3775\n",
            "Epoch 43/100\n",
            "50/50 [==============================] - 0s 4ms/step - loss: 0.0190 - mse: 0.0190 - val_loss: 2.3426 - val_mse: 2.3426\n",
            "Epoch 44/100\n",
            "50/50 [==============================] - 0s 4ms/step - loss: 0.0180 - mse: 0.0180 - val_loss: 2.3345 - val_mse: 2.3345\n",
            "Epoch 45/100\n",
            "50/50 [==============================] - 0s 4ms/step - loss: 0.0172 - mse: 0.0172 - val_loss: 2.3257 - val_mse: 2.3257\n",
            "Epoch 46/100\n",
            "50/50 [==============================] - 0s 4ms/step - loss: 0.0169 - mse: 0.0169 - val_loss: 2.3205 - val_mse: 2.3205\n",
            "Epoch 47/100\n",
            "50/50 [==============================] - 0s 5ms/step - loss: 0.0166 - mse: 0.0166 - val_loss: 2.3178 - val_mse: 2.3178\n",
            "Epoch 48/100\n",
            "50/50 [==============================] - 0s 4ms/step - loss: 0.0171 - mse: 0.0171 - val_loss: 2.3289 - val_mse: 2.3289\n",
            "Epoch 49/100\n",
            "50/50 [==============================] - 0s 5ms/step - loss: 0.0157 - mse: 0.0157 - val_loss: 2.3184 - val_mse: 2.3184\n",
            "Epoch 50/100\n",
            "50/50 [==============================] - 0s 8ms/step - loss: 0.0150 - mse: 0.0150 - val_loss: 2.3076 - val_mse: 2.3076\n",
            "Epoch 51/100\n",
            "50/50 [==============================] - 0s 5ms/step - loss: 0.0146 - mse: 0.0146 - val_loss: 2.3091 - val_mse: 2.3091\n",
            "Epoch 52/100\n",
            "50/50 [==============================] - 0s 5ms/step - loss: 0.0150 - mse: 0.0150 - val_loss: 2.3111 - val_mse: 2.3111\n",
            "Epoch 53/100\n",
            "50/50 [==============================] - 0s 8ms/step - loss: 0.0152 - mse: 0.0152 - val_loss: 2.2973 - val_mse: 2.2973\n",
            "Epoch 54/100\n",
            "50/50 [==============================] - 0s 5ms/step - loss: 0.0165 - mse: 0.0165 - val_loss: 2.3002 - val_mse: 2.3002\n",
            "Epoch 55/100\n",
            "50/50 [==============================] - 0s 5ms/step - loss: 0.0182 - mse: 0.0182 - val_loss: 2.2776 - val_mse: 2.2776\n",
            "Epoch 56/100\n",
            "50/50 [==============================] - 0s 5ms/step - loss: 0.0183 - mse: 0.0183 - val_loss: 2.3208 - val_mse: 2.3208\n",
            "Epoch 57/100\n",
            "50/50 [==============================] - 0s 5ms/step - loss: 0.0182 - mse: 0.0182 - val_loss: 2.2750 - val_mse: 2.2750\n",
            "Epoch 58/100\n",
            "50/50 [==============================] - 0s 5ms/step - loss: 0.0175 - mse: 0.0175 - val_loss: 2.2987 - val_mse: 2.2987\n",
            "Epoch 59/100\n",
            "50/50 [==============================] - 0s 5ms/step - loss: 0.0159 - mse: 0.0159 - val_loss: 2.2790 - val_mse: 2.2790\n",
            "Epoch 60/100\n",
            "50/50 [==============================] - 0s 4ms/step - loss: 0.0145 - mse: 0.0145 - val_loss: 2.2832 - val_mse: 2.2832\n",
            "Epoch 61/100\n",
            "50/50 [==============================] - 0s 5ms/step - loss: 0.0135 - mse: 0.0135 - val_loss: 2.2744 - val_mse: 2.2744\n",
            "Epoch 62/100\n",
            "50/50 [==============================] - 0s 5ms/step - loss: 0.0133 - mse: 0.0133 - val_loss: 2.2460 - val_mse: 2.2460\n",
            "Epoch 63/100\n",
            "50/50 [==============================] - 0s 4ms/step - loss: 0.0131 - mse: 0.0131 - val_loss: 2.2730 - val_mse: 2.2730\n",
            "Epoch 64/100\n",
            "50/50 [==============================] - 0s 5ms/step - loss: 0.0139 - mse: 0.0139 - val_loss: 2.2682 - val_mse: 2.2682\n",
            "Epoch 65/100\n",
            "50/50 [==============================] - 0s 4ms/step - loss: 0.0151 - mse: 0.0151 - val_loss: 2.2567 - val_mse: 2.2567\n",
            "Epoch 66/100\n",
            "50/50 [==============================] - 1s 10ms/step - loss: 0.0142 - mse: 0.0142 - val_loss: 2.2596 - val_mse: 2.2596\n",
            "Epoch 67/100\n",
            "50/50 [==============================] - 0s 8ms/step - loss: 0.0140 - mse: 0.0140 - val_loss: 2.2478 - val_mse: 2.2478\n",
            "Epoch 68/100\n",
            "50/50 [==============================] - 0s 7ms/step - loss: 0.0138 - mse: 0.0138 - val_loss: 2.2489 - val_mse: 2.2489\n",
            "Epoch 69/100\n",
            "50/50 [==============================] - 0s 7ms/step - loss: 0.0140 - mse: 0.0140 - val_loss: 2.2464 - val_mse: 2.2464\n",
            "Epoch 70/100\n",
            "50/50 [==============================] - 0s 7ms/step - loss: 0.0134 - mse: 0.0134 - val_loss: 2.2543 - val_mse: 2.2543\n",
            "Epoch 71/100\n",
            "50/50 [==============================] - 0s 7ms/step - loss: 0.0138 - mse: 0.0138 - val_loss: 2.2459 - val_mse: 2.2459\n",
            "Epoch 72/100\n",
            "50/50 [==============================] - 0s 8ms/step - loss: 0.0139 - mse: 0.0139 - val_loss: 2.2392 - val_mse: 2.2392\n",
            "Epoch 73/100\n",
            "50/50 [==============================] - 0s 8ms/step - loss: 0.0136 - mse: 0.0136 - val_loss: 2.2686 - val_mse: 2.2686\n",
            "Epoch 74/100\n",
            "50/50 [==============================] - 0s 8ms/step - loss: 0.0136 - mse: 0.0136 - val_loss: 2.2467 - val_mse: 2.2467\n",
            "Epoch 75/100\n",
            "50/50 [==============================] - 0s 7ms/step - loss: 0.0143 - mse: 0.0143 - val_loss: 2.2280 - val_mse: 2.2280\n",
            "Epoch 76/100\n",
            "50/50 [==============================] - 0s 7ms/step - loss: 0.0141 - mse: 0.0141 - val_loss: 2.2240 - val_mse: 2.2240\n",
            "Epoch 77/100\n",
            "50/50 [==============================] - 0s 7ms/step - loss: 0.0135 - mse: 0.0135 - val_loss: 2.2375 - val_mse: 2.2375\n",
            "Epoch 78/100\n",
            "50/50 [==============================] - 0s 7ms/step - loss: 0.0131 - mse: 0.0131 - val_loss: 2.2299 - val_mse: 2.2299\n",
            "Epoch 79/100\n",
            "50/50 [==============================] - 0s 7ms/step - loss: 0.0130 - mse: 0.0130 - val_loss: 2.2296 - val_mse: 2.2296\n",
            "Epoch 80/100\n",
            "50/50 [==============================] - 0s 5ms/step - loss: 0.0138 - mse: 0.0138 - val_loss: 2.2276 - val_mse: 2.2276\n",
            "Epoch 81/100\n",
            "50/50 [==============================] - 0s 5ms/step - loss: 0.0139 - mse: 0.0139 - val_loss: 2.2196 - val_mse: 2.2196\n",
            "Epoch 82/100\n",
            "50/50 [==============================] - 0s 5ms/step - loss: 0.0135 - mse: 0.0135 - val_loss: 2.2192 - val_mse: 2.2192\n",
            "Epoch 83/100\n",
            "50/50 [==============================] - 0s 4ms/step - loss: 0.0130 - mse: 0.0130 - val_loss: 2.2093 - val_mse: 2.2093\n",
            "Epoch 84/100\n",
            "50/50 [==============================] - 0s 5ms/step - loss: 0.0131 - mse: 0.0131 - val_loss: 2.2135 - val_mse: 2.2135\n",
            "Epoch 85/100\n",
            "50/50 [==============================] - 0s 4ms/step - loss: 0.0113 - mse: 0.0113 - val_loss: 2.2050 - val_mse: 2.2050\n",
            "Epoch 86/100\n",
            "50/50 [==============================] - 0s 5ms/step - loss: 0.0109 - mse: 0.0109 - val_loss: 2.2037 - val_mse: 2.2037\n",
            "Epoch 87/100\n",
            "50/50 [==============================] - 0s 4ms/step - loss: 0.0104 - mse: 0.0104 - val_loss: 2.2088 - val_mse: 2.2088\n",
            "Epoch 88/100\n",
            "50/50 [==============================] - 0s 5ms/step - loss: 0.0098 - mse: 0.0098 - val_loss: 2.2125 - val_mse: 2.2125\n",
            "Epoch 89/100\n",
            "50/50 [==============================] - 0s 4ms/step - loss: 0.0099 - mse: 0.0099 - val_loss: 2.2238 - val_mse: 2.2238\n",
            "Epoch 90/100\n",
            "50/50 [==============================] - 0s 4ms/step - loss: 0.0100 - mse: 0.0100 - val_loss: 2.1905 - val_mse: 2.1905\n",
            "Epoch 91/100\n",
            "50/50 [==============================] - 0s 4ms/step - loss: 0.0105 - mse: 0.0105 - val_loss: 2.2111 - val_mse: 2.2111\n",
            "Epoch 92/100\n",
            "50/50 [==============================] - 0s 4ms/step - loss: 0.0105 - mse: 0.0105 - val_loss: 2.2047 - val_mse: 2.2047\n",
            "Epoch 93/100\n",
            "50/50 [==============================] - 0s 4ms/step - loss: 0.0105 - mse: 0.0105 - val_loss: 2.2037 - val_mse: 2.2037\n",
            "Epoch 94/100\n",
            "50/50 [==============================] - 0s 5ms/step - loss: 0.0112 - mse: 0.0112 - val_loss: 2.2006 - val_mse: 2.2006\n",
            "Epoch 95/100\n",
            "50/50 [==============================] - 0s 5ms/step - loss: 0.0118 - mse: 0.0118 - val_loss: 2.2147 - val_mse: 2.2147\n",
            "Epoch 96/100\n",
            "50/50 [==============================] - 0s 5ms/step - loss: 0.0119 - mse: 0.0119 - val_loss: 2.1904 - val_mse: 2.1904\n",
            "Epoch 97/100\n",
            "50/50 [==============================] - 0s 5ms/step - loss: 0.0113 - mse: 0.0113 - val_loss: 2.1886 - val_mse: 2.1886\n",
            "Epoch 98/100\n",
            "50/50 [==============================] - 0s 5ms/step - loss: 0.0106 - mse: 0.0106 - val_loss: 2.1946 - val_mse: 2.1946\n",
            "Epoch 99/100\n",
            "50/50 [==============================] - 0s 5ms/step - loss: 0.0102 - mse: 0.0102 - val_loss: 2.1867 - val_mse: 2.1867\n",
            "Epoch 100/100\n",
            "50/50 [==============================] - 0s 5ms/step - loss: 0.0100 - mse: 0.0100 - val_loss: 2.1847 - val_mse: 2.1847\n"
          ]
        }
      ]
    },
    {
      "cell_type": "code",
      "source": [
        "\n",
        "# Menilai model pada data pengujian\n",
        "test_loss = model.evaluate([test_data['userId'], test_data['productId']], test_data['ratings'])\n",
        "print(f'Test Loss: {test_loss}')"
      ],
      "metadata": {
        "colab": {
          "base_uri": "https://localhost:8080/"
        },
        "id": "6zpSYZXFJYPa",
        "outputId": "1334e80e-b7ca-4f3e-ddd8-7cd2414126c7"
      },
      "execution_count": 81,
      "outputs": [
        {
          "output_type": "stream",
          "name": "stdout",
          "text": [
            "32/32 [==============================] - 0s 2ms/step - loss: 2.1568 - mse: 2.1568\n",
            "Test Loss: [2.1567776203155518, 2.1567776203155518]\n"
          ]
        }
      ]
    },
    {
      "cell_type": "code",
      "source": [
        "# Menggunakan model untuk membuat prediksi\n",
        "predictions = model.predict([test_data['userId'], test_data['productId']])\n",
        "\n",
        "# Menampilkan beberapa hasil prediksi\n",
        "for i in range(10):\n",
        "    print(f\"Actual Rating: {test_data['ratings'].iloc[i]}, Predicted Rating: {predictions[i][0]}\")\n",
        "\n",
        "\n",
        "# Menghitung metrik evaluasi tambahan jika diperlukan\n",
        "from sklearn.metrics import mean_squared_error\n",
        "\n",
        "mse = mean_squared_error(test_data['ratings'], predictions.flatten())\n",
        "print(f'Mean Squared Error on test data: {mse}')\n"
      ],
      "metadata": {
        "colab": {
          "base_uri": "https://localhost:8080/"
        },
        "id": "wYtrP6EaKMbG",
        "outputId": "d52bd201-0d40-4001-ae12-e6038a115696"
      },
      "execution_count": 82,
      "outputs": [
        {
          "output_type": "stream",
          "name": "stdout",
          "text": [
            "32/32 [==============================] - 0s 2ms/step\n",
            "Actual Rating: 4.0, Predicted Rating: 4.008058547973633\n",
            "Actual Rating: 3.0, Predicted Rating: 3.4738597869873047\n",
            "Actual Rating: 5.0, Predicted Rating: 3.3161795139312744\n",
            "Actual Rating: 4.0, Predicted Rating: 4.129420280456543\n",
            "Actual Rating: 4.0, Predicted Rating: 4.194271564483643\n",
            "Actual Rating: 5.0, Predicted Rating: 3.7958831787109375\n",
            "Actual Rating: 4.0, Predicted Rating: 4.129042625427246\n",
            "Actual Rating: 1.0, Predicted Rating: 3.142287492752075\n",
            "Actual Rating: 5.0, Predicted Rating: 3.308208465576172\n",
            "Actual Rating: 5.0, Predicted Rating: 3.7813732624053955\n",
            "Mean Squared Error on test data: 2.1567772844446416\n"
          ]
        }
      ]
    },
    {
      "cell_type": "code",
      "source": [
        "# Melakukan prediksi pada data pelatihan dan validasi\n",
        "train_predictions = model.predict([train_data['userId'], train_data['productId']])\n",
        "val_predictions = model.predict([test_data['userId'], test_data['productId']])\n",
        "\n",
        "# Menghitung Mean Squared Error (MSE)\n",
        "train_mse = mean_squared_error(train_data['ratings'], train_predictions.flatten())\n",
        "val_mse = mean_squared_error(test_data['ratings'], val_predictions.flatten())\n",
        "\n",
        "# Menampilkan hasil evaluasi\n",
        "print(f'Mean Squared Error (MSE) pada Data Pelatihan: {train_mse}')\n",
        "print(f'Mean Squared Error (MSE) pada Data Validasi: {val_mse}')"
      ],
      "metadata": {
        "colab": {
          "base_uri": "https://localhost:8080/"
        },
        "id": "cB2uvZcsNKJ8",
        "outputId": "f6364ce4-59f9-49a3-81bc-cae6c02d47c8"
      },
      "execution_count": 84,
      "outputs": [
        {
          "output_type": "stream",
          "name": "stdout",
          "text": [
            "125/125 [==============================] - 0s 2ms/step\n",
            "32/32 [==============================] - 0s 2ms/step\n",
            "Mean Squared Error (MSE) pada Data Pelatihan: 0.4440010379305853\n",
            "Mean Squared Error (MSE) pada Data Validasi: 2.1567772844446416\n"
          ]
        }
      ]
    },
    {
      "cell_type": "code",
      "source": [
        "import matplotlib.pyplot as plt\n",
        "\n",
        "# Plot loss untuk setiap epoch\n",
        "plt.plot(history.history['loss'], label='Training Loss')\n",
        "plt.plot(history.history['val_loss'], label='Validation Loss')\n",
        "plt.xlabel('Epoch')\n",
        "plt.ylabel('Loss (MSE)')\n",
        "plt.legend()\n",
        "plt.show()"
      ],
      "metadata": {
        "colab": {
          "base_uri": "https://localhost:8080/",
          "height": 453
        },
        "id": "O8-n_JTGNYVV",
        "outputId": "ae766784-3925-4df0-de9e-29e0c0d83b10"
      },
      "execution_count": 85,
      "outputs": [
        {
          "output_type": "display_data",
          "data": {
            "text/plain": [
              "<Figure size 640x480 with 1 Axes>"
            ],
            "image/png": "[encoded data removed]"
          },
          "metadata": {}
        }
      ]
    },
    {
      "cell_type": "code",
      "source": [
        "# Menghitung prediksi pada data pengujian\n",
        "test_predictions = model.predict([test_data['userId'], test_data['productId']])\n",
        "\n",
        "# Menampilkan beberapa contoh hasil prediksi\n",
        "for i in range(10):  # Menampilkan 10 contoh hasil prediksi\n",
        "    actual_rating = test_data['ratings'].iloc[i]\n",
        "    predicted_rating = test_predictions[i][0]\n",
        "    print(f\"Actual Rating: {actual_rating}, Predicted Rating: {predicted_rating}\")"
      ],
      "metadata": {
        "colab": {
          "base_uri": "https://localhost:8080/"
        },
        "id": "A7Fwu3JlNgoS",
        "outputId": "c6038bf1-031e-459c-9444-cdb962564c9f"
      },
      "execution_count": 86,
      "outputs": [
        {
          "output_type": "stream",
          "name": "stdout",
          "text": [
            "32/32 [==============================] - 0s 2ms/step\n",
            "Actual Rating: 4.0, Predicted Rating: 4.008058547973633\n",
            "Actual Rating: 3.0, Predicted Rating: 3.4738597869873047\n",
            "Actual Rating: 5.0, Predicted Rating: 3.3161795139312744\n",
            "Actual Rating: 4.0, Predicted Rating: 4.129420280456543\n",
            "Actual Rating: 4.0, Predicted Rating: 4.194271564483643\n",
            "Actual Rating: 5.0, Predicted Rating: 3.7958831787109375\n",
            "Actual Rating: 4.0, Predicted Rating: 4.129042625427246\n",
            "Actual Rating: 1.0, Predicted Rating: 3.142287492752075\n",
            "Actual Rating: 5.0, Predicted Rating: 3.308208465576172\n",
            "Actual Rating: 5.0, Predicted Rating: 3.7813732624053955\n"
          ]
        }
      ]
    },
    {
      "cell_type": "code",
      "source": [
        "model.save('recommender_model.h5')"
      ],
      "metadata": {
        "id": "vbDUo2JQOUv6",
        "colab": {
          "base_uri": "https://localhost:8080/"
        },
        "outputId": "29089736-ccd4-498a-e4c4-fa8629dc17d2"
      },
      "execution_count": 87,
      "outputs": [
        {
          "output_type": "stream",
          "name": "stderr",
          "text": [
            "/usr/local/lib/python3.10/dist-packages/keras/src/engine/training.py:3103: UserWarning: You are saving your model as an HDF5 file via `model.save()`. This file format is considered legacy. We recommend using instead the native Keras format, e.g. `model.save('my_model.keras')`.\n",
            "  saving_api.save_model(\n"
          ]
        }
      ]
    },
    {
      "cell_type": "code",
      "source": [
        "from tensorflow.keras.models import load_model\n",
        "import numpy as np\n",
        "\n",
        "# Muat model dari file .h5\n",
        "deployed_model = load_model('recommender_model.h5')\n",
        "\n",
        "# Contoh pengujian\n",
        "user_ids = np.array([1, 2, 3])\n",
        "product_ids = np.array([10, 20, 30])\n",
        "\n",
        "predictions = deployed_model.predict([user_ids, product_ids])\n",
        "\n",
        "# Tampilkan hasil prediksi\n",
        "for i in range(len(user_ids)):\n",
        "    print(f\"User {user_ids[i]} akan memberikan rating untuk Product {product_ids[i]} sebesar: {predictions[i][0]}\")\n"
      ],
      "metadata": {
        "colab": {
          "base_uri": "https://localhost:8080/"
        },
        "id": "whJDa6HwaLx3",
        "outputId": "014ebbb7-1865-4472-c6cc-b238af6553d1"
      },
      "execution_count": 88,
      "outputs": [
        {
          "output_type": "stream",
          "name": "stdout",
          "text": [
            "1/1 [==============================] - 0s 61ms/step\n",
            "User 1 akan memberikan rating untuk Product 10 sebesar: 4.188692569732666\n",
            "User 2 akan memberikan rating untuk Product 20 sebesar: 2.537712335586548\n",
            "User 3 akan memberikan rating untuk Product 30 sebesar: 3.194730520248413\n"
          ]
        }
      ]
    }
  ]
}